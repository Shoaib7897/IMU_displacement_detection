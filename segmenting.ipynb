{
 "cells": [
  {
   "cell_type": "code",
   "execution_count": null,
   "metadata": {},
   "outputs": [],
   "source": [
    "\n",
    "import pandas as pd\n",
    "import numpy as np\n",
    "\n",
    "df = pd.read_csv('416Hz_TOP.csv')  # Replace with your filename# Calculate the start and end indices\n",
    "start_index = int(8352 * 416)  # 5000 seconds * 416 samples per second\n",
    "end_index = int(8356 * 416)  # 6700 seconds * 416 samples per second\n",
    "\n",
    "# Extract the required rows\n",
    "subset_df = df.iloc[start_index:end_index]\n",
    "\n",
    "# Save the new dataframe to a CSV file\n",
    "subset_df.to_csv(\"3_subset.csv\", index=False)\n",
    "# Create a new time column, with each measurement 1/416 seconds after the previous one\n",
    "subset_df['Time'] = subset_df.index * (1/416)\n",
    "\n",
    "# Now plot the filtered Acceleration Z against this new time\n",
    "plt.figure(figsize=(10, 6))\n",
    "plt.plot(subset_df['Time'], subset_df['AccelerometerZ'])\n",
    "plt.xlabel('Time (s)')\n",
    "plt.ylabel('NON - Filtered Acceleration Z')\n",
    "plt.title('Acceleration Z vs Time')\n",
    "plt.grid(True)\n",
    "plt.show()"
   ]
  }
 ],
 "metadata": {
  "language_info": {
   "name": "python"
  },
  "orig_nbformat": 4
 },
 "nbformat": 4,
 "nbformat_minor": 2
}
